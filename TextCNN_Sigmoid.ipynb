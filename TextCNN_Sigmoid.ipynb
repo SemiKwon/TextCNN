{
 "cells": [
  {
   "cell_type": "code",
   "execution_count": 18,
   "id": "3c327b26",
   "metadata": {},
   "outputs": [
    {
     "name": "stdout",
     "output_type": "stream",
     "text": [
      "1.9.1+cpu\n",
      "0.10.1\n",
      "현재 작업 중인 디렉토리: C:\\Users\\user\\TextCNN\n"
     ]
    }
   ],
   "source": [
    "import torch\n",
    "import torchtext\n",
    "\n",
    "print(torch.__version__)\n",
    "print(torchtext.__version__)\n",
    "\n",
    "import os\n",
    "\n",
    "current_dir = os.getcwd()\n",
    "print(\"현재 작업 중인 디렉토리:\", current_dir)"
   ]
  },
  {
   "cell_type": "code",
   "execution_count": 19,
   "id": "c5413691",
   "metadata": {},
   "outputs": [
    {
     "name": "stdout",
     "output_type": "stream",
     "text": [
      "['comments']\n",
      "['여러분', '은', '지금', '서울대', '공과대학', '박사학위', '취득', '후', '글', '쓰고', '자기', '팬미팅', '자기', '가', '열고', '거기', '서', '의사', '여친', '만나', '결혼', '하고', '아이', '사준', '트램펄린', '위', '에서', '더브', '덤블링', '하다', '척추', '나가고', '회복', '후', '육아', '만화', '그리다가', '암', '걸리고', '완치', '받은', '작가', '님', '을', '보고', '계십니다', '.']\n",
      "['작가', '님', '암', '4', '기', '판정', '받았다고요', '?', '완치', '?']\n",
      "['미쳤다', '작가', '님', '오셨다', '작가', '님', '육아', '일기', '할', '때', '박사', '과정', '이었는데', '저', '박사', '학위', '땄습니다', '.', '작가', '님', '이', '왜', '산', '의', '정상', '에', '오르냐의', '이유', '를', '표현', '하신', '적', '있었는데', '할', '수', '있다를', '나', '는', '해냈다로', '바꾸기', '위', '해서라', '하셨죠', '.', '그', '말', '마음속', '에', '깊이', '새기고', '힘낼', '수', '있었습니다', '.', '너무', '괴롭고', '힘들었는데', '해냈습니다', '.']\n",
      "['작가', '님', '프롤로그', '부터', '울리시기', '있나요', '?', 'ㅜㅜ', '너무', '기극 맥락 인지\")\n",
    "\n",
    "#이후 Softmax 함수로 변경하였음."
   ]
  }
 ],
 "metadata": {
  "kernelspec": {
   "display_name": "Python (Nlp)",
   "language": "python",
   "name": "nlp"
  },
  "language_info": {
   "codemirror_mode": {
    "name": "ipython",
    "version": 3
   },
   "file_extension": ".py",
   "mimetype": "text/x-python",
   "name": "python",
   "nbconvert_exporter": "python",
   "pygments_lexer": "ipython3",
   "version": "3.8.16"
  }
 },
 "nbformat": 4,
 "nbformat_minor": 5
}
